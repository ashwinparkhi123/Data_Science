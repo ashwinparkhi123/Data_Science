{
 "cells": [
  {
   "cell_type": "markdown",
   "metadata": {
    "id": "cyOfbWCdOjEr"
   },
   "source": [
    "# ASSIGNMENTS - Compulsory\n",
    "## Send it before 0000 hrs IST or 12 AM Wednesday\n",
    "\n",
    "## NOTE: Evaluation will be done before next class.\n",
    "\n",
    "## HOW TO SUBMIT: -\n",
    "Download this notebook, Solve it and upload in the google form given in the mail."
   ]
  },
  {
   "cell_type": "code",
   "execution_count": 26,
   "metadata": {
    "id": "GT4IytkJMNa-"
   },
   "outputs": [
    {
     "name": "stdout",
     "output_type": "stream",
     "text": [
      "3 times\n"
     ]
    }
   ],
   "source": [
    "## Python String Manipulation\n",
    "\n",
    "#1. Count the number of times `iNeuron` appears in the string.\n",
    "text = \"Welcome to iNeuron, You are a part of FSDS Bootcamp 2 in iNeuron. I hope you are enjoying the course by iNeuron\"\n",
    "print(str(text.count(\"iNeuron\")) + \" times\") "
   ]
  },
  {
   "cell_type": "code",
   "execution_count": 24,
   "metadata": {
    "id": "KwVni9gipNi-"
   },
   "outputs": [],
   "source": [
    "#2. Check if position `5` to `11` ends with the phrase `iNeuron.` in the string \n",
    "txt = \"Hello, welcome to FSDS 2.0 at iNeuron.\"\n",
    "if txt[5:12] == \"iNeuron\":\n",
    "    print(\"Ending with iNeuron\")\n",
    "else:\n",
    "    print(\"Not Ending with iNeuron\")"
   ]
  },
  {
   "cell_type": "code",
   "execution_count": 17,
   "metadata": {},
   "outputs": [
    {
     "name": "stdout",
     "output_type": "stream",
     "text": [
      "Enter the full name : Sunny Bhaveen Chandra\n",
      "The name is :S.B.Chandra\n"
     ]
    }
   ],
   "source": [
    "'''3. Write a program that takes your full name as input and displays the abbreviations of the first and middle names except \n",
    "the last name which is displayed as it is. For example, if your name is Sunny Bhaveen Chandra, then the output should be \n",
    "S.B.Chandra.\n",
    "'''\n",
    "full_name = input(\"Enter the full name : \")\n",
    "first_name , middle_name , last_name = full_name.split()\n",
    "print(\"The name is :\" + first_name[0].upper() + \".\" + middle_name[0].upper() + \".\" + last_name )"
   ]
  },
  {
   "cell_type": "code",
   "execution_count": 13,
   "metadata": {},
   "outputs": [
    {
     "data": {
      "text/plain": [
       "'My#name#is#Rishav#Dash'"
      ]
     },
     "execution_count": 13,
     "metadata": {},
     "output_type": "execute_result"
    }
   ],
   "source": [
    "#4. Join all items in a list into a string, using a hash(`#`) character as separator:\n",
    "LIST = [\"My\", \"name\", \"is\", \"Rishav\", \"Dash\"]\n",
    "\"#\".join(LIST)"
   ]
  },
  {
   "cell_type": "code",
   "execution_count": 32,
   "metadata": {},
   "outputs": [
    {
     "name": "stdout",
     "output_type": "stream",
     "text": [
      "Enter the number : 1254\n",
      "True\n",
      "True\n",
      "Enter the string containing only alphabetsAshwin\n",
      "The user input contains alphabets having both lowercase and uppercase\n"
     ]
    }
   ],
   "source": [
    "\"\"\"5. Write example for the following string manipulation function,\n",
    "\n",
    "  - isdecimal()\n",
    "  - islower()\n",
    "  - isupper()\n",
    "  - isalpha()\n",
    "  - isnumeric()\n",
    "\"\"\"\n",
    "number = input(\"Enter the number : \")\n",
    "print(number.isdecimal())\n",
    "print(number.isnumeric())\n",
    "\n",
    "INPUT = input(\"Enter the string containing only alphabets\")\n",
    "if INPUT .isalpha():\n",
    "    if INPUT.islower():\n",
    "        print(\"The user input contains alphabets in lowercase\")\n",
    "    elif INPUT.isupper():\n",
    "        print(\"The user input contains alphabets in uppercase\")\n",
    "    else:\n",
    "        print(\"The user input contains alphabets having both lowercase and uppercase\")\n",
    "else:\n",
    "    print(\"Invalid input\")\n"
   ]
  },
  {
   "cell_type": "code",
   "execution_count": 16,
   "metadata": {
    "id": "zkHibMFZxYje"
   },
   "outputs": [
    {
     "name": "stdout",
     "output_type": "stream",
     "text": [
      "Enter the pan number :asdfg1452d\n",
      "Invalid Input\n"
     ]
    }
   ],
   "source": [
    "\"\"\"6. Indian PAN card format follows the following formats - \n",
    "    - `AYEPC7894X`\n",
    "    - `ABCDE9999Y`\n",
    "  Take user input for PAN_CARD and validate as per the above example.\n",
    "\"\"\"\n",
    "# I have also added the condition of Uppercase in the 'if' condition\n",
    "# The user should enter the alphabets in capitals only otherwise the it will give Invalid output as result\n",
    "pan_number = input(\"Enter the pan number :\")\n",
    "if pan_number.isalnum() and pan_number[0:5].isalpha() and pan_number[0:5].isupper() and pan_number[5:9].isdigit() and pan_number[-1].isalpha() and pan_number[-1].isupper() and len(pan_number)==10:\n",
    "    print(\"Valid input\")\n",
    "else: \n",
    "    print(\"Invalid Input\")"
   ]
  },
  {
   "cell_type": "code",
   "execution_count": null,
   "metadata": {},
   "outputs": [],
   "source": []
  }
 ],
 "metadata": {
  "colab": {
   "collapsed_sections": [],
   "provenance": []
  },
  "kernelspec": {
   "display_name": "Python 3 (ipykernel)",
   "language": "python",
   "name": "python3"
  },
  "language_info": {
   "codemirror_mode": {
    "name": "ipython",
    "version": 3
   },
   "file_extension": ".py",
   "mimetype": "text/x-python",
   "name": "python",
   "nbconvert_exporter": "python",
   "pygments_lexer": "ipython3",
   "version": "3.9.12"
  }
 },
 "nbformat": 4,
 "nbformat_minor": 1
}
