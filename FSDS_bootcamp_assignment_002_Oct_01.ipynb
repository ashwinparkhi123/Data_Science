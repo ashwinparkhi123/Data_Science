{
 "cells": [
  {
   "cell_type": "markdown",
   "metadata": {
    "id": "cyOfbWCdOjEr"
   },
   "source": [
    "# ASSIGNMENTS - Compulsory\n",
    "## Send it before 0000 hrs IST or 12 AM Wednesday\n",
    "\n",
    "## NOTE: Evaluation will be done before next class.\n",
    "\n",
    "## HOW TO SUBMIT: -\n",
    "Download this notebook, Solve it and upload in the google form given in the mail."
   ]
  },
  {
   "cell_type": "markdown",
   "metadata": {
    "id": "GT4IytkJMNa-"
   },
   "source": [
    "\n",
    "1. What is indentation error? Why indentation is important? Give one simple example?\n",
    "solution: Indentation are the whitespaces(or tabs) which are used to segregate the block of code. If, these spaces are missing or not properly placed then this leads to indentation error.\n",
    "          Indetation are important, as the compiler will unable to discretize the code under operations like looping.\n",
    "          Example: a=5\n",
    "                   if a>5:\n",
    "                   print(\"Hello\")        #In IF statement there are multiple lines of code, without indendation the compiler\n",
    "                   a = a+5               #will not be able to segregate the code and give the indentation error\n",
    "                   print(a)\n",
    "                   else: \n",
    "                   print(\"Hi\")\n",
    "\n"
   ]
  },
  {
   "cell_type": "code",
   "execution_count": null,
   "metadata": {},
   "outputs": [],
   "source": [
    "'''\n",
    "2. Correct the following code and write the comment where you made the correction?\n",
    "'''\n",
    "\n",
    "#python\n",
    "class_started1 = int(input(\"Hey friend, is class started?: [0-False/1-True]\"))\n",
    "'''\n",
    "bool is changed to int because input takes string as input and bool considers empty string as False, if the user gives the input then the bool operators always considers it as True\n",
    "'''\n",
    "class_started = bool(class_started1)\n",
    "'''\n",
    "The integer input (after typecasting) is converted into booleen(True or False)\n",
    "'''\n",
    "if class_started :\n",
    "    print(\"Since class started...\")\n",
    "    print(\"Lets concentrate\")\n",
    "else :\n",
    "    print(\"Since class is not started...\")\n",
    "    print(\"let's revise\")    \n",
    "\n",
    " # **HINT:** Refer your data type conversion class\n",
    "\n"
   ]
  },
  {
   "cell_type": "code",
   "execution_count": null,
   "metadata": {},
   "outputs": [],
   "source": [
    "3. Use if else condition to verify that dataype of `input()` method in python is always string.\n",
    "solution:\n",
    "a = input(\"Enter the input \") \n",
    "'''\n",
    "Enter the input of different datatypes and you will notice that the input() function always returns a string\n",
    "'''\n",
    "if type(a) == str:\n",
    "    print(\"The datatype of `input()` method in python is string\")\n",
    "else :\n",
    "    print(\"The datatype of `input()` method in python is not a string\")\n",
    "\n"
   ]
  },
  {
   "cell_type": "code",
   "execution_count": null,
   "metadata": {},
   "outputs": [],
   "source": [
    "'''\n",
    "4. Take 3 variables and assign integer values to them. Find the largest variable, by only using the if and else conditions.\n",
    "'''\n",
    "try:\n",
    "    a = int(input(\"Enter the First integer input\"))\n",
    "    b = int(input(\"Enter the Second integer input\"))\n",
    "    c = int(input(\"Enter the Third integer input\"))\n",
    "    if a != b and b!=c and a!=c :\n",
    "        if a>b and a>c :\n",
    "            print(f\"{a} is the largest number among the 3 inputs\")\n",
    "        elif b>a and b>c:\n",
    "            print(f\"{b} is the largest number among the 3 inputs\")\n",
    "        else:\n",
    "            print(f\"{c} is the largest number among the 3 inputs\")\n",
    "\n",
    "    elif a==b and b==c:\n",
    "        print(\"All numbers are equal\")\n",
    "\n",
    "    else:\n",
    "        if a == b:\n",
    "            if a>c:\n",
    "                print(f\"{a} is the largest number among the 3 inputs\")\n",
    "            else:\n",
    "                print(f\"{c} is the largest number among the 3 inputs\")\n",
    "\n",
    "        if b == c:\n",
    "            if b>a:\n",
    "                print(f\"{b} is the largest number among the 3 inputs\")\n",
    "            else:\n",
    "                print(f\"{a} is the largest number among the 3 inputs\")\n",
    "\n",
    "        if a == c:\n",
    "            if a>b:\n",
    "                print(f\"{a} is the largest number among the 3 inputs\")\n",
    "            else:\n",
    "                print(f\"{b} is the largest number among the 3 inputs\")\n",
    "\n",
    "except:\n",
    "    print(\"Please enter Integer as an input\")"
   ]
  },
  {
   "cell_type": "markdown",
   "metadata": {},
   "source": [
    "'''5. What would be the solution?\n",
    "    1. True\n",
    "    2. False\n",
    "\n",
    "    ```python\n",
    "    a = 6\n",
    "    b = 10\n",
    "    print( not ( not a == 10 or not b == 10) )\n",
    "    ```\n",
    "'''\n",
    "solution: False\n"
   ]
  },
  {
   "cell_type": "markdown",
   "metadata": {},
   "source": [
    "    \n",
    "6. Find the answer as well as find out the reason behind the result? -\n",
    "    - case 1:\n",
    "        ```python\n",
    "        A = 5.0\n",
    "        B = 10/2\n",
    "        print(A is B)\n",
    "        ```\n",
    "        Solution: False     \n",
    "    - case 2:\n",
    "        ```python\n",
    "        A = 5.0\n",
    "        B = int(10/2)\n",
    "        print(A is B)\n",
    "        ```\n",
    "        Solution: False\n",
    "    - case 3:\n",
    "        ```python\n",
    "        A = 5.0\n",
    "        B = float(10/2)\n",
    "        print(A is B)\n",
    "        ```\n",
    "        Solution: False\n",
    "'''    \n",
    "Reason: 'is' will return False since the A and B do not point to the same object. Even though both objects have equal values, they are not the same in the sense that Python stores them to different locations in memory.\n",
    "'''"
   ]
  },
  {
   "cell_type": "markdown",
   "metadata": {
    "id": "a_4kbBVWNY-4"
   },
   "source": [
    "### Try to understand the following examples and answer the question based on it - \n",
    "    \n",
    "**Arithmatic Operators**\n",
    "\n",
    "|Operation|Meaning|\n",
    "|:-:|:-:|\n",
    "| **+** |addition|\n",
    "| **-** |subtraction|\n",
    "| **\\*** |multiplication|\n",
    "| **/** |true division|\n",
    "| **//** |integer division|\n",
    "| **%** |the modulo operator|\n",
    "\n",
    "\n",
    "Here `+`, `-`, `*`, `/` are regular arithmatic operators. Lets look at the `//` and `%` operators\n",
    "\n",
    "Usecase or examples - \n",
    "    \n",
    "```python\n",
    "var_a = 5\n",
    "var_b = 25\n",
    "integer_division = var_b // var_a\n",
    "print(f\"integer division: {var_b}/{var_a}={integer_division}\")\n",
    "```\n",
    "\n",
    "OUTPUT: integer division: 25/5=5\n",
    "\n",
    "```python\n",
    "var_a = 3\n",
    "var_b = 25\n",
    "integer_division = var_b // var_a\n",
    "print(f\"integer division: {var_b}/{var_a}={integer_division}\")\n",
    "```\n",
    "\n",
    "OUTPUT: integer division: 25/3=8\n",
    "\n",
    "```python\n",
    "var_a = 5\n",
    "var_b = 25\n",
    "remainder = var_b % var_a\n",
    "print(f\"remainder: {var_b}/{var_a} is {remainder}\")\n",
    "```\n",
    "\n",
    "OUTPUT: remainder: 25/5 is 0\n",
    "\n",
    "```python\n",
    "var_a = 3\n",
    "var_b = 25\n",
    "remainder = var_b % var_a\n",
    "print(f\"remainder: {var_b}/{var_a} is {remainder}\")\n",
    "```\n",
    "\n",
    "OUTPUT: remainder: 25/3 is 1\n",
    "\n"
   ]
  },
  {
   "cell_type": "markdown",
   "metadata": {
    "id": "v288WPlMNxmM"
   },
   "source": [
    "### Answer below questions on the above theory - "
   ]
  },
  {
   "cell_type": "code",
   "execution_count": null,
   "metadata": {
    "id": "XumyqFp6MHnv"
   },
   "outputs": [],
   "source": [
    "'''\n",
    "7. Write a program that asks the user to enter a number. You should print out a message to the user, either “That number is \n",
    "   divisible by either 3 or 5”, or “That number is not divisible by either 3 or 5”. Be sure to consider the data type of the \n",
    "   input you are taking in from the user. Use a single if/else block to solve this problem.\n",
    "'''\n",
    "solution:\n",
    "try:\n",
    "    a = int(input(\"Enter the input\"))\n",
    "    if type(a) == int:\n",
    "        if a%3 ==0 or a%5==0:\n",
    "            print(\"number is divisible by either 3 or 5\")\n",
    "        else:\n",
    "            print(\"number is not divisible by either 3 or 5\")\n",
    "except:\n",
    "    print(\"Please Enter the input as an integer\")"
   ]
  },
  {
   "cell_type": "code",
   "execution_count": null,
   "metadata": {},
   "outputs": [],
   "source": [
    "'''\n",
    "8. Take user input for length and width. Then calculate the area of rectangle. Also print as per length and width whether its a\n",
    "   square of rectangle.\n",
    "'''\n",
    "try:\n",
    "    length = float(input(\"Enter the Length of the Rectangle\"))\n",
    "    width = float(input(\"Enter the Width of the Rectangle\"))\n",
    "    print(f\"Area of the rectangle is {length * width} \")\n",
    "    if length == width:\n",
    "        print(\"The dimensions entered are same hence it is a sqaure \")\n",
    "except:\n",
    "    print(\"PLEASE, Enter the valid input\")"
   ]
  },
  {
   "cell_type": "code",
   "execution_count": null,
   "metadata": {},
   "outputs": [],
   "source": [
    "'''\n",
    "9. Take two variable radius_1 and radius_2 and calculate the area of circle_1 and circle_2. Also print which circle has large\n",
    "   area. If area is equal then print area is equal.\n",
    "'''\n",
    "import math\n",
    "radius_1 = float(input(\"Enter the radius of first circle\"))\n",
    "radius_2 = float(input(\"Enter the radius of second circle\"))\n",
    "if radius_1 > radius_2:\n",
    "    print(f\"Area of circle 1 ({math.pi * (radius_1**2)}) is larger than area of circle 2 ({math.pi * (radius_2**2)})\")\n",
    "else:\n",
    "    print(f\"Area of circle 2 ({math.pi * (radius_2**2)}) is larger than area of circle 1 ({math.pi * (radius_1**2)})\")52"
   ]
  },
  {
   "cell_type": "code",
   "execution_count": null,
   "metadata": {},
   "outputs": [],
   "source": [
    "'''\n",
    "10. Check whether a year is leap year or not. Use nested if...else to solve this problem. A leap year is exactly divisible by 4\n",
    "    except for century years (years ending with 00). The century year is a leap year only if it is perfectly divisible by 400.\n",
    "'''\n",
    "try:\n",
    "    year = int(input(\"Enter the Year\"))\n",
    "    if year %400 == 0 and year %4 == 0:\n",
    "        print(f\"{year} is a Leap year\")\n",
    "    elif year%4 ==0:\n",
    "        print(f\"{year} is a Leap year\")\n",
    "    else:\n",
    "        print(f\"{year} is not a Leap year\")\n",
    "except:\n",
    "    print('Please enter the valid input')"
   ]
  },
  {
   "cell_type": "code",
   "execution_count": null,
   "metadata": {},
   "outputs": [],
   "source": []
  }
 ],
 "metadata": {
  "colab": {
   "collapsed_sections": [],
   "provenance": []
  },
  "kernelspec": {
   "display_name": "Python 3 (ipykernel)",
   "language": "python",
   "name": "python3"
  },
  "language_info": {
   "codemirror_mode": {
    "name": "ipython",
    "version": 3
   },
   "file_extension": ".py",
   "mimetype": "text/x-python",
   "name": "python",
   "nbconvert_exporter": "python",
   "pygments_lexer": "ipython3",
   "version": "3.9.12"
  }
 },
 "nbformat": 4,
 "nbformat_minor": 1
}
