{
 "cells": [
  {
   "cell_type": "code",
   "execution_count": 5,
   "id": "7444d5d6",
   "metadata": {},
   "outputs": [],
   "source": [
    "'''1. write a function which will try to find out len of a string without using an inbuilt len function '''\n",
    "def find_len(a):\n",
    "    '''\n",
    "    function returns the lenght of a string\n",
    "    '''\n",
    "    \n",
    "    if type(a) == str:\n",
    "        counter = 0\n",
    "        for elements in a:\n",
    "            counter += 1\n",
    "        print(f\"The length of the given string is {counter}\")"
   ]
  },
  {
   "cell_type": "code",
   "execution_count": 30,
   "id": "79c6e241",
   "metadata": {},
   "outputs": [
    {
     "name": "stdout",
     "output_type": "stream",
     "text": [
      "The index of element 1 is : 0\n",
      "The index of element 2 is : 1\n",
      "The index of element 3 is : 2\n",
      "The index of element 4 is : 3\n",
      "The index of element 5 is : 4\n",
      "The index of element 6 is : 5\n",
      "The index of element 7 is : 6\n",
      "The index of element 8 is : 7\n",
      "The index of element 9 is : 8\n",
      "The index of element ashwin is : 9\n"
     ]
    }
   ],
   "source": [
    "'''2. write a function which  will be able to print an index of list element without using an index function'''\n",
    "l = [1,2,3,4,5,6,7,8,9,\"ashwin\"]\n",
    "def print_index(a):\n",
    "    '''\n",
    "    function returns the index of all the elements in the list\n",
    "    '''\n",
    "    if type(a) == list:\n",
    "        counter = 0\n",
    "        for element in a:\n",
    "            print(f\"The index of element {element} is : {counter}\")\n",
    "            counter += 1 \n",
    "print_index(l)            "
   ]
  },
  {
   "cell_type": "code",
   "execution_count": 25,
   "id": "5830b6d5",
   "metadata": {},
   "outputs": [
    {
     "name": "stdout",
     "output_type": "stream",
     "text": [
      "Your Computer Name is:LAPTOP-ORQU8U1J\n",
      "Your Computer IP Address is:192.168.123.217\n"
     ]
    }
   ],
   "source": [
    "'''3. write a function which will be able to print an ip address of your system'''\n",
    "import socket \n",
    "def print_ip_add():\n",
    "    '''\n",
    "    Function returns the ip address of your system\n",
    "    '''\n",
    "    hostname=socket.gethostname()   \n",
    "    IPAddr=socket.gethostbyname(hostname)   \n",
    "    print(\"Your Computer Name is:\" + hostname)   \n",
    "    print(\"Your Computer IP Address is:\" + IPAddr)\n"
   ]
  },
  {
   "cell_type": "code",
   "execution_count": null,
   "id": "941ec733",
   "metadata": {},
   "outputs": [],
   "source": [
    "'''4. write a function which will shutdown your system'''\n",
    "import os\n",
    "def shutdown():\n",
    "    '''\n",
    "    Function shutdowns the system\n",
    "    '''\n",
    "    \n",
    "    return os.system(\"shutdown /s /t 1\")"
   ]
  },
  {
   "cell_type": "code",
   "execution_count": 28,
   "id": "93c6e4b5",
   "metadata": {},
   "outputs": [
    {
     "name": "stdout",
     "output_type": "stream",
     "text": [
      "Multiplication of all the numeric data : 459.19999999999993\n"
     ]
    }
   ],
   "source": [
    "'''5. write a function which will take input as a list with any kind of numeric value and give an out as a multiplication of \n",
    "all the numeric data '''\n",
    "l = [3.5, 6.56, 4,5,\"sudh\" , \"ineuron\" , 'fsda bootcamp 2.0']\n",
    "def mul_all_num_in_list(a):\n",
    "    '''\n",
    "    Function returns the multiplication of all the numeric data in the list\n",
    "    '''\n",
    "    \n",
    "    counter = 0\n",
    "    answer = 1\n",
    "    if type(a) == list:\n",
    "        for item in a:\n",
    "            if type(item) == int or type(item) == float:\n",
    "                answer = answer * item\n",
    "                counter += 1\n",
    "    print(f\"Multiplication of all the numeric data : {answer}\")\n",
    " \n",
    "mul_all_num_in_list(l)\n",
    "                "
   ]
  },
  {
   "cell_type": "code",
   "execution_count": null,
   "id": "4911b7de",
   "metadata": {},
   "outputs": [],
   "source": [
    "'''6. write a function which will be able to read all the mails '''\n",
    "import imaplib\n",
    "import base64 \n",
    "\n",
    "def read_mails():\n",
    "    email_user = input('Email: ')\n",
    "    email_pass = input('Password: ')\n",
    "\n",
    "    M = imaplib.IMAP4_SSL('imap-mail.outlook.com', 993)\n",
    "    M.login(email_user, email_pass)\n",
    "    M.select()\n",
    "    typ, data = M.search(None, 'ALL')\n",
    "    for num in data[0].split():\n",
    "        typ, data = M.fetch(num, '(RFC822)')\n",
    "        num1 = base64.b64decode(num1)\n",
    "        data1 = base64.b64decode(data)\n",
    "        print('Message %s\\n%s\\n' % (num, data[0][1]))\n",
    "    M.close()\n",
    "    M.logout()\n",
    "    \n",
    "'read_mails()"
   ]
  },
  {
   "cell_type": "code",
   "execution_count": 41,
   "id": "905e1de4",
   "metadata": {},
   "outputs": [],
   "source": [
    "'''7 . write a function which will be able to send a mail to anyone '''\n",
    "import smtplib\n",
    "def send_email(user, password):\n",
    "    server = smtplib.STMP('smtp.gmail.com' , 587)\n",
    "    server.startls() ##creating a connection between gmail and python using tls (transport layer security)\n",
    "    server.login(user,password)       ##login into gmail account\n",
    "    rx_mail = input(\"Enter the receiver maild id:\")\n",
    "    msg = input(\"Enter the mail body\")\n",
    "    server.send,ail(user, rx_mail, msg)\n",
    "    server.close()\n",
    "    preint(\"Mail Sent\")\n",
    "    \n",
    "'send_email(user,password)"
   ]
  },
  {
   "cell_type": "code",
   "execution_count": 39,
   "id": "a342a1a9",
   "metadata": {},
   "outputs": [
    {
     "name": "stdout",
     "output_type": "stream",
     "text": [
      "Enter Folder PathE:\\Data_Science\n",
      "1\n",
      "2\n",
      "3\n",
      "4\n",
      "*\tfamily : ashwin parkhi\n",
      "5\n",
      "6\n",
      "7\n",
      "8\n",
      "9\n",
      "6\n",
      "2\n",
      "4\n",
      "5\n",
      "*MAT ASDFC\n",
      "5sdhbfefbs\n",
      "6\n",
      "8\n",
      "7\n",
      "1\n"
     ]
    }
   ],
   "source": [
    "'''8. write a function which will be able to read a doc/word file from your system '''\n",
    "import os\n",
    "  \n",
    "def read_doc(filename):\n",
    "    '''\n",
    "    Function read the doc file and print the content, here filename is only name of the file to open and read\n",
    "    '''\n",
    "    path = input(\"Enter Folder Path\")\n",
    "    os.chdir(path)\n",
    "    file = f\"{path}\\{filename}\"\n",
    "    f = open(file + \".doc\",\"r\")\n",
    "    print(f.read())"
   ]
  },
  {
   "cell_type": "code",
   "execution_count": null,
   "id": "21a8e204",
   "metadata": {},
   "outputs": [],
   "source": []
  }
 ],
 "metadata": {
  "kernelspec": {
   "display_name": "Python 3 (ipykernel)",
   "language": "python",
   "name": "python3"
  },
  "language_info": {
   "codemirror_mode": {
    "name": "ipython",
    "version": 3
   },
   "file_extension": ".py",
   "mimetype": "text/x-python",
   "name": "python",
   "nbconvert_exporter": "python",
   "pygments_lexer": "ipython3",
   "version": "3.9.12"
  }
 },
 "nbformat": 4,
 "nbformat_minor": 5
}
